{
 "cells": [
  {
   "cell_type": "markdown",
   "id": "70f55d60-6c93-4509-a020-aa89bcb82713",
   "metadata": {},
   "source": [
    "# "
   ]
  },
  {
   "cell_type": "code",
   "execution_count": null,
   "id": "30327db0-e6ca-4e48-a575-5b02b074d98f",
   "metadata": {},
   "outputs": [],
   "source": [
    "import pandas as pd\n",
    "import numpy as np\n",
    "import matplotlib.pyplot as plt\n",
    "import seaborn as sns"
   ]
  },
  {
   "cell_type": "code",
   "execution_count": null,
   "id": "8af693c5-555d-4955-9523-d867dc4b13bc",
   "metadata": {
    "scrolled": true
   },
   "outputs": [],
   "source": [
    "bdi2_df = pd.read_csv('../teis-JesseCrawford89/data/NSS data_BDI2 scores_20200101-20230131_20241106.csv')\n",
    "\n",
    "bdi2_df['testDate'] = pd.to_datetime(bdi2_df['testDate'])"
   ]
  },
  {
   "cell_type": "code",
   "execution_count": null,
   "id": "7ec6d930-15ad-49be-9056-7a0c77bdb4bd",
   "metadata": {
    "scrolled": true
   },
   "outputs": [],
   "source": [
    "bdi3_df = pd.read_excel('../teis-JesseCrawford89/data/NSS data_BDI3 Scores 20230101 20240630_Compiled_20241107.xlsx')\n",
    "\n",
    "bdi3_df['Adaptive-Self Care Date of Testing'] = pd.to_datetime(bdi3_df['Adaptive-Self Care Date of Testing'])"
   ]
  },
  {
   "cell_type": "code",
   "execution_count": null,
   "id": "71525fb5-3917-4c29-90a5-687ff2474770",
   "metadata": {
    "scrolled": true
   },
   "outputs": [],
   "source": [
    "eco_df = pd.read_excel('../teis-JesseCrawford89/data/NSS_ECO Data Ind 3 FFY 2023-24 20241211.xlsx',sheet_name='ECO with Exit23-24 ')"
   ]
  },
  {
   "cell_type": "code",
   "execution_count": null,
   "id": "0d7bc4da-df2c-4409-b260-568312e24ed0",
   "metadata": {
    "scrolled": true
   },
   "outputs": [],
   "source": [
    "entry_exit = eco_df[(eco_df['OC1 Data Check']==1)][['CHILD_ID','BDI 3\\nECO_Entry_DATE','BDI 3\\nECO_Exit_DATE','BDI2 Entry Date']]"
   ]
  },
  {
   "cell_type": "code",
   "execution_count": null,
   "id": "b1135c0f-6639-4a29-9644-943cb0fe97e3",
   "metadata": {
    "scrolled": true
   },
   "outputs": [],
   "source": [
    "entry_exit.rename(columns={'CHILD_ID':'TEIDS Child ID'}, inplace=True)"
   ]
  },
  {
   "cell_type": "code",
   "execution_count": null,
   "id": "c1cade8b-43ae-4344-a526-eaf7a61eb030",
   "metadata": {},
   "outputs": [],
   "source": [
    "entry_exit = entry_exit[(entry_exit['BDI 3\\nECO_Exit_DATE'].notnull())&((entry_exit['BDI 3\\nECO_Entry_DATE'].notnull())|(entry_exit['BDI2 Entry Date'].notnull()))]"
   ]
  },
  {
   "cell_type": "code",
   "execution_count": null,
   "id": "15117de2-06f6-485d-b4f2-b5bfe69e47a6",
   "metadata": {
    "scrolled": true
   },
   "outputs": [],
   "source": [
    "bdi3_exit = entry_exit.merge(bdi3_df,how='inner',left_on=['TEIDS Child ID','BDI 3\\nECO_Exit_DATE'],right_on=['TEIDS Child ID','Adaptive-Self Care Date of Testing'])"
   ]
  },
  {
   "cell_type": "code",
   "execution_count": null,
   "id": "583a501f-f056-4462-978d-39e9cc8214e5",
   "metadata": {
    "scrolled": true
   },
   "outputs": [],
   "source": [
    "bdi3_entry = entry_exit.merge(bdi3_df,how='inner',left_on=['TEIDS Child ID','BDI 3\\nECO_Entry_DATE'],right_on=['TEIDS Child ID','Adaptive-Self Care Date of Testing'])"
   ]
  },
  {
   "cell_type": "code",
   "execution_count": null,
   "id": "34e98cd6-81c9-4895-bbf2-a91696782be5",
   "metadata": {
    "scrolled": true
   },
   "outputs": [],
   "source": [
    "bdi2_entry_subdomains = entry_exit.merge(bdi2_df,how='inner',left_on=['TEIDS Child ID','BDI2 Entry Date'],right_on=['Student TEIDS ID','testDate'])"
   ]
  },
  {
   "cell_type": "code",
   "execution_count": null,
   "id": "bae9bc4b-ec53-4dd1-83d7-d31488aa231f",
   "metadata": {},
   "outputs": [],
   "source": [
    "bdi2_entry_subdomains = bdi2_entry_subdomains[~bdi2_entry_subdomains['testDate'].isnull()]"
   ]
  },
  {
   "cell_type": "code",
   "execution_count": null,
   "id": "5b1f8d21-ebdd-4df5-9e52-f2fa7b5f42a9",
   "metadata": {
    "scrolled": true
   },
   "outputs": [],
   "source": [
    "bdi2_entry = bdi2_df[bdi2_df['studentAssessmentID'].isin(bdi2_entry_subdomains['studentAssessmentID'])]"
   ]
  },
  {
   "cell_type": "code",
   "execution_count": null,
   "id": "2f47f55d-7ad5-4d40-9a4a-9f9a82af8d2e",
   "metadata": {},
   "outputs": [],
   "source": [
    "bdi2_entry['Student TEIDS ID'] = bdi2_entry['Student TEIDS ID'].astype('int64')"
   ]
  },
  {
   "cell_type": "code",
   "execution_count": null,
   "id": "d6647693-f597-417e-be5f-4d0a986414eb",
   "metadata": {},
   "outputs": [],
   "source": [
    "bdi3_entry = bdi3_entry[~bdi3_entry['Adaptive-Self Care Date of Testing'].isnull()]"
   ]
  },
  {
   "cell_type": "code",
   "execution_count": null,
   "id": "814c3930-8f68-4c15-83bf-6104411e2e4a",
   "metadata": {},
   "outputs": [],
   "source": [
    "bdi2_entry = bdi2_entry[['Student TEIDS ID','domainText','rawScore','DQScore','ZScore']]"
   ]
  },
  {
   "cell_type": "code",
   "execution_count": null,
   "id": "2dbd3af3-e1ec-4284-b59d-1fc87bd7b91e",
   "metadata": {},
   "outputs": [],
   "source": [
    "bdi3_entry = bdi3_entry[['TEIDS Child ID','Adaptive Developmental Quotient','Social-Emotional Developmental Quotient','Communication Developmental Quotient','Motor Developmental Quotient','Cognitive Developmental Quotient','Adaptive-Self Care RS','Adaptive-Self Care Z-Score','Adaptive-Personal Responsibility RS','Adaptive-Personal Responsibility Z-Score','Social Emotional-Adult Interaction RS','Social Emotional-Adult Interaction Z-Score','Social Emotional-Peer Interaction RS','Social Emotional-Peer Interaction Z-Score','Social Emotional-Self Concept / Social Role RS','Social Emotional-Self Concept / Social Role Z-Score','Communication-Receptive Communication RS','Communication-Receptive Communication Z-Score','Communication-Expressive Communication RS','Communication-Expressive Communication Z-Score','Motor-Gross Motor RS','Motor-Gross Motor Z-Score','Motor-Fine Motor RS','Motor-Fine Motor Z-Score','Motor-Perceptual Motor RS','Motor-Perceptual Motor Z-Score','Cognitive-Attention and Memory RS','Cognitive-Attention and Memory Z-Score','Cognitive-Reasoning / Academic Skills RS','Cognitive-Reasoning / Academic Skills Z-Score','Cognitive-Perception and Concepts RS','Cognitive-Perception and Concepts Z-Score']]"
   ]
  },
  {
   "cell_type": "code",
   "execution_count": null,
   "id": "ba381218-c258-4d02-98d9-ea6c3fb439fc",
   "metadata": {},
   "outputs": [],
   "source": [
    "bdi3_exit = bdi3_exit[['TEIDS Child ID','Adaptive Developmental Quotient','Social-Emotional Developmental Quotient','Communication Developmental Quotient','Motor Developmental Quotient','Cognitive Developmental Quotient','Adaptive-Self Care RS','Adaptive-Self Care Z-Score','Adaptive-Personal Responsibility RS','Adaptive-Personal Responsibility Z-Score','Social Emotional-Adult Interaction RS','Social Emotional-Adult Interaction Z-Score','Social Emotional-Peer Interaction RS','Social Emotional-Peer Interaction Z-Score','Social Emotional-Self Concept / Social Role RS','Social Emotional-Self Concept / Social Role Z-Score','Communication-Receptive Communication RS','Communication-Receptive Communication Z-Score','Communication-Expressive Communication RS','Communication-Expressive Communication Z-Score','Motor-Gross Motor RS','Motor-Gross Motor Z-Score','Motor-Fine Motor RS','Motor-Fine Motor Z-Score','Motor-Perceptual Motor RS','Motor-Perceptual Motor Z-Score','Cognitive-Attention and Memory RS','Cognitive-Attention and Memory Z-Score','Cognitive-Reasoning / Academic Skills RS','Cognitive-Reasoning / Academic Skills Z-Score','Cognitive-Perception and Concepts RS','Cognitive-Perception and Concepts Z-Score']]"
   ]
  },
  {
   "cell_type": "code",
   "execution_count": null,
   "id": "2bd98464-c290-498c-9ed4-fdca3f19b0e0",
   "metadata": {},
   "outputs": [],
   "source": [
    "# Dibran wrote this, don't praise me. -- Ryan\n",
    "def transform_data(file)-> pd.DataFrame:\n",
    "    df = file #This was originally where you would read in the csv for bdi-2, I changed it to run the already filtered dataframe -- Ryan\n",
    "        #drop null student ID if you have any\n",
    "    df = df[~df['Student TEIDS ID'].isnull()]\n",
    "    # there are ids that have mulitple duplicate IDs example:526857\n",
    "    #the following code will help deal with duplciate domain - allowing us to create more that 1 row if it has dup domain text\n",
    "    df = df.sort_values(['Student TEIDS ID','domainText']).reset_index(drop=True)\n",
    "    #sequential number to each row within a group\n",
    "    df['row_number'] = df.groupby(['Student TEIDS ID', 'domainText']).cumcount()\n",
    "    #pivot dataframe\n",
    "    df_pivot = df.pivot_table(index=['Student TEIDS ID', 'row_number']\n",
    "              , columns='domainText'\n",
    "              , values=['rawScore','DQScore','ZScore']\n",
    "              , aggfunc='first')\n",
    "    #flatten multi-index columns\n",
    "    df_pivot.columns = [f\"{col[1]}-{col[0]}\" for col in df_pivot.columns]\n",
    "    #reset index\n",
    "    df_pivot = df_pivot.reset_index()\n",
    "    #drop row number\n",
    "    df_pivot = df_pivot.drop(columns=['row_number'])\n",
    "    return df_pivot"
   ]
  },
  {
   "cell_type": "code",
   "execution_count": null,
   "id": "dc451f27-b031-4b20-b4e7-f2e0063f2bf3",
   "metadata": {},
   "outputs": [],
   "source": [
    "bdi2_df_test = transform_data(bdi2_entry)"
   ]
  },
  {
   "cell_type": "code",
   "execution_count": null,
   "id": "0d763c96-47fa-4138-9e44-84bcb342b491",
   "metadata": {},
   "outputs": [],
   "source": [
    "bdi2_df_test"
   ]
  },
  {
   "cell_type": "code",
   "execution_count": null,
   "id": "0354f8d6-d439-4884-82ed-e2568ec2e768",
   "metadata": {},
   "outputs": [],
   "source": [
    "test_ids = bdi3_exit[(bdi3_exit['TEIDS Child ID'].isin(bdi3_entry['TEIDS Child ID']))|(bdi3_exit['TEIDS Child ID'].isin(bdi2_entry['Student TEIDS ID']))]['TEIDS Child ID']"
   ]
  },
  {
   "cell_type": "code",
   "execution_count": null,
   "id": "2a90deeb-5d40-4a5e-96f4-7533e75ee8e9",
   "metadata": {},
   "outputs": [],
   "source": [
    "test_ids"
   ]
  },
  {
   "cell_type": "code",
   "execution_count": null,
   "id": "83c5d8ba-b46d-40b2-8e3d-f1f5cc69445d",
   "metadata": {},
   "outputs": [],
   "source": [
    "#(bdi3_exit[(bdi3_exit['TEIDS Child ID'].isin(bdi3_entry['TEIDS Child ID']))|(bdi3_exit['TEIDS Child ID'].isin(bdi2_entry['Student TEIDS ID']))]['TEIDS Child ID']).to_csv('TEIDS Child IDs',index=False)"
   ]
  },
  {
   "cell_type": "code",
   "execution_count": null,
   "id": "0f3de5c3-3aea-4d96-9a87-030aa9827de7",
   "metadata": {},
   "outputs": [],
   "source": [
    "bdi2_flag = pd.DataFrame({'TEIDS Child ID':bdi2_entry['Student TEIDS ID'].unique()})\n",
    "bdi2_flag['bdi_flag'] = 2"
   ]
  },
  {
   "cell_type": "code",
   "execution_count": null,
   "id": "5bef0338-8c68-4d86-9054-6c0a9c45ed65",
   "metadata": {},
   "outputs": [],
   "source": [
    "bdi3_flag = pd.DataFrame(bdi3_entry['TEIDS Child ID'])\n",
    "bdi3_flag['bdi_flag'] = 3"
   ]
  },
  {
   "cell_type": "code",
   "execution_count": null,
   "id": "9dddec05-020d-4856-9fb0-018e9cf10873",
   "metadata": {},
   "outputs": [],
   "source": [
    "entry_flag = bdi2_flag.merge(bdi3_flag,how='outer',left_on=['TEIDS Child ID','bdi_flag'],right_on=['TEIDS Child ID','bdi_flag'])"
   ]
  },
  {
   "cell_type": "code",
   "execution_count": null,
   "id": "5c7fb4b5-3b2d-40df-a88c-9fe075ef9700",
   "metadata": {},
   "outputs": [],
   "source": [
    "entry_flag"
   ]
  },
  {
   "cell_type": "code",
   "execution_count": null,
   "id": "56f129b2-160a-4fdb-a778-53c7c30dc40b",
   "metadata": {},
   "outputs": [],
   "source": [
    "exit_flagged = entry_flag.merge(bdi3_exit,how='inner',on='TEIDS Child ID')"
   ]
  },
  {
   "cell_type": "code",
   "execution_count": null,
   "id": "9cfcb348-e65c-4625-97c2-1ed7eb9abd8c",
   "metadata": {},
   "outputs": [],
   "source": [
    "bdi2_entry_exit = exit_flagged[exit_flagged['bdi_flag']==2]"
   ]
  },
  {
   "cell_type": "code",
   "execution_count": null,
   "id": "90587413-4d53-45c7-a8eb-4a6668dfc6c1",
   "metadata": {},
   "outputs": [],
   "source": [
    "bdi3_entry_exit = exit_flagged[exit_flagged['bdi_flag']==3]"
   ]
  },
  {
   "cell_type": "code",
   "execution_count": null,
   "id": "5a3fac0c-ad0e-4611-a29a-a90da3c99406",
   "metadata": {},
   "outputs": [],
   "source": [
    "#domains = pd.DataFrame({'Adaptive':['Self-Care','Personal Responsibility'],'Social-Emotional':['Adult Interaction','Peer Interaction','Self-Concept and Social Role'],'Communication':['Receptive Communication','Expressive Communication'],'Motor':['Gross Motor','Fine Motor','Perceptual Motor'],'Cognitive':['Attention and Memory','Reasoning and Academic Skills','Perception and Concepts']})"
   ]
  },
  {
   "cell_type": "code",
   "execution_count": null,
   "id": "a4f27774-1e20-42a0-8d17-98f1d98513cc",
   "metadata": {},
   "outputs": [],
   "source": [
    "#OC1 = ['*Social-Emotional*','*Personal-Social*','*Adult Interaction*','*Peer Interaction*','*Self-Concept and Social Role*','*Self Concept / Social Role*']"
   ]
  },
  {
   "cell_type": "code",
   "execution_count": null,
   "id": "20e2559f-ebc6-43b1-8cb3-eafe971d3a0e",
   "metadata": {},
   "outputs": [],
   "source": [
    "bdi3_entry"
   ]
  },
  {
   "cell_type": "code",
   "execution_count": null,
   "id": "1252a25e-2d40-4b2c-91d0-dbc25f1cc9c2",
   "metadata": {},
   "outputs": [],
   "source": [
    "bdi3_entry_exit"
   ]
  },
  {
   "cell_type": "code",
   "execution_count": null,
   "id": "05fcd364-5eeb-42a9-b104-868ed58895ea",
   "metadata": {},
   "outputs": [],
   "source": [
    "bdi2_entry_exit"
   ]
  },
  {
   "cell_type": "code",
   "execution_count": null,
   "id": "7d30eb0d-0607-4b8e-b3af-8f66e20db839",
   "metadata": {},
   "outputs": [],
   "source": [
    "bdi3_merge = bdi3_entry.merge(bdi3_entry_exit,how='inner',on='TEIDS Child ID',suffixes=(\"_entry\",\"_exit\"))"
   ]
  },
  {
   "cell_type": "code",
   "execution_count": null,
   "id": "94c3e6ed-009b-4997-99bb-8d5fc1fd382e",
   "metadata": {},
   "outputs": [],
   "source": [
    "bdi3_merge"
   ]
  },
  {
   "cell_type": "code",
   "execution_count": null,
   "id": "99e51691-0b16-41fc-b385-d2d918b8366c",
   "metadata": {},
   "outputs": [],
   "source": [
    "bdi3_oc1_e = bdi3_merge[(bdi3_merge['Social-Emotional Developmental Quotient_entry']>=78)\n",
    "    &(bdi3_merge['Social Emotional-Adult Interaction Z-Score_entry']>-1.5)\n",
    "    &(bdi3_merge['Social Emotional-Self Concept / Social Role Z-Score_entry']>-1.5)\n",
    "    &(bdi3_merge['Social Emotional-Peer Interaction Z-Score_entry']>-1.5)]"
   ]
  },
  {
   "cell_type": "code",
   "execution_count": null,
   "id": "d28ec457-4d59-44d9-be69-8b923eef4436",
   "metadata": {},
   "outputs": [],
   "source": [
    "bdi3_oc1 = ['TEIDS Child ID','Social-Emotional Developmental Quotient_entry','Social-Emotional Developmental Quotient_exit','Social Emotional-Adult Interaction Z-Score_entry','Social Emotional-Adult Interaction Z-Score_exit','Social Emotional-Self Concept / Social Role Z-Score_entry','Social Emotional-Self Concept / Social Role Z-Score_exit','Social Emotional-Peer Interaction Z-Score_entry','Social Emotional-Peer Interaction Z-Score_exit','Social Emotional-Adult Interaction RS_entry','Social Emotional-Adult Interaction RS_exit','Social Emotional-Peer Interaction RS_entry','Social Emotional-Peer Interaction RS_exit','Social Emotional-Self Concept / Social Role RS_entry','Social Emotional-Self Concept / Social Role RS_exit']"
   ]
  },
  {
   "cell_type": "code",
   "execution_count": null,
   "id": "9106483c-432b-4a94-bded-1af49184da1d",
   "metadata": {},
   "outputs": [],
   "source": [
    "bdi3_oc1_e['oc1']='e'"
   ]
  },
  {
   "cell_type": "code",
   "execution_count": null,
   "id": "f5e1f9e2-4f64-4589-be93-ad4d87effcb5",
   "metadata": {},
   "outputs": [],
   "source": [
    "bdi3_oc1_e['oc1']"
   ]
  },
  {
   "cell_type": "code",
   "execution_count": null,
   "id": "a10ba783-9147-486b-ac07-84cafc50661e",
   "metadata": {},
   "outputs": [],
   "source": [
    "bdi3_oc1_d = bdi3_merge[((bdi3_merge['Social-Emotional Developmental Quotient_entry']<78)&(bdi3_merge['Social-Emotional Developmental Quotient_exit']>=78))\n",
    "    |(((bdi3_merge['Social-Emotional Developmental Quotient_entry']>=78)&(bdi3_merge['Social-Emotional Developmental Quotient_exit']>=78))\n",
    "      &((bdi3_merge['Social Emotional-Adult Interaction Z-Score_entry']<=-1.5)\n",
    "        |(bdi3_merge['Social Emotional-Adult Interaction Z-Score_exit']<=-1.5)\n",
    "        |(bdi3_merge['Social Emotional-Self Concept / Social Role Z-Score_entry']<=-1.5)\n",
    "        |(bdi3_merge['Social Emotional-Self Concept / Social Role Z-Score_exit']<=-1.5)\n",
    "        |(bdi3_merge['Social Emotional-Peer Interaction Z-Score_entry']<=-1.5)\n",
    "        |(bdi3_merge['Social Emotional-Peer Interaction Z-Score_exit']<=-1.5)))]"
   ]
  },
  {
   "cell_type": "code",
   "execution_count": null,
   "id": "e737ee3c-19ab-4da3-b6c4-6038bdcbe65a",
   "metadata": {},
   "outputs": [],
   "source": [
    "bdi3_oc1_d['oc1'] = 'd'"
   ]
  },
  {
   "cell_type": "code",
   "execution_count": null,
   "id": "3b00aef8-056e-4492-86d8-c3916c9e0bbb",
   "metadata": {},
   "outputs": [],
   "source": [
    "bdi3_oc1_c = bdi3_merge[((bdi3_merge['Social-Emotional Developmental Quotient_entry']<bdi3_merge['Social-Emotional Developmental Quotient_exit'])\n",
    "                         &(bdi3_merge['Social-Emotional Developmental Quotient_exit']<78))\n",
    "    &((bdi3_merge['Social Emotional-Adult Interaction RS_exit']>bdi3_merge['Social Emotional-Adult Interaction RS_entry'])\n",
    "      |(bdi3_merge['Social Emotional-Peer Interaction RS_exit']>bdi3_merge['Social Emotional-Peer Interaction RS_entry'])\n",
    "      |(bdi3_merge['Social Emotional-Self Concept / Social Role RS_exit']>bdi3_merge['Social Emotional-Self Concept / Social Role RS_entry']))]"
   ]
  },
  {
   "cell_type": "code",
   "execution_count": null,
   "id": "4a938a9e-0b08-4a7f-940b-0f1d0bc13cc8",
   "metadata": {
    "scrolled": true
   },
   "outputs": [],
   "source": [
    "bdi3_oc1_c['oc1']='c'"
   ]
  },
  {
   "cell_type": "code",
   "execution_count": null,
   "id": "46d80cc2-6450-42b3-b04a-6f4aa5e0a4e5",
   "metadata": {},
   "outputs": [],
   "source": [
    "bdi3_oc1_b = bdi3_merge[((bdi3_merge['Social-Emotional Developmental Quotient_entry']>=bdi3_merge['Social-Emotional Developmental Quotient_exit'])\n",
    "                         &(bdi3_merge['Social-Emotional Developmental Quotient_exit']<78))\n",
    "    &((bdi3_merge['Social Emotional-Adult Interaction RS_exit']>bdi3_merge['Social Emotional-Adult Interaction RS_entry'])\n",
    "      |(bdi3_merge['Social Emotional-Peer Interaction RS_exit']>bdi3_merge['Social Emotional-Peer Interaction RS_entry'])\n",
    "      |(bdi3_merge['Social Emotional-Self Concept / Social Role RS_exit']>bdi3_merge['Social Emotional-Self Concept / Social Role RS_entry']))]"
   ]
  },
  {
   "cell_type": "code",
   "execution_count": null,
   "id": "bf5193b4-6227-4e85-b508-fead9c5e99f3",
   "metadata": {
    "scrolled": true
   },
   "outputs": [],
   "source": [
    "bdi3_oc1_b['oc1']='b'"
   ]
  },
  {
   "cell_type": "code",
   "execution_count": null,
   "id": "a73e537f-ad27-4b64-aa4b-bb208c7fffd3",
   "metadata": {},
   "outputs": [],
   "source": [
    "bdi3_oc1_a = bdi3_merge[(bdi3_merge['Social-Emotional Developmental Quotient_exit']<78)\n",
    "    &(bdi3_merge['Social Emotional-Adult Interaction RS_exit']<=bdi3_merge['Social Emotional-Adult Interaction RS_entry'])\n",
    "    &(bdi3_merge['Social Emotional-Peer Interaction RS_exit']<=bdi3_merge['Social Emotional-Peer Interaction RS_entry'])\n",
    "    &(bdi3_merge['Social Emotional-Self Concept / Social Role RS_exit']<=bdi3_merge['Social Emotional-Self Concept / Social Role RS_entry'])]"
   ]
  },
  {
   "cell_type": "code",
   "execution_count": null,
   "id": "2d62a540-250a-4732-a9f4-0e81b82605f0",
   "metadata": {
    "scrolled": true
   },
   "outputs": [],
   "source": [
    "bdi3_oc1_a"
   ]
  },
  {
   "cell_type": "code",
   "execution_count": null,
   "id": "66e1b7f0-ba51-4455-a514-825737ce299e",
   "metadata": {},
   "outputs": [],
   "source": [
    "bdi3_oc1_a.to_csv('bdi3_oc1_a.csv',index=False)"
   ]
  },
  {
   "cell_type": "code",
   "execution_count": null,
   "id": "21660069-e3a9-468a-b9de-1fc4fe7d499b",
   "metadata": {},
   "outputs": [],
   "source": [
    "aid3 = bdi3_oc1_a['TEIDS Child ID']"
   ]
  },
  {
   "cell_type": "code",
   "execution_count": null,
   "id": "1f14f68f-ea2d-4bb8-8735-8b485f7855f6",
   "metadata": {},
   "outputs": [],
   "source": [
    "time_in_program = eco_df[['CHILD_ID','Days btw Initial and Exit','Days btw I-IFSP to Exit ECO','<Calc> Entrance Age (months)']]\n",
    "time_in_program = time_in_program[time_in_program['Days btw Initial and Exit'] > 181]\n",
    "time_in_program.loc[:, 'Years btw Initial and Exit'] = time_in_program['Days btw Initial and Exit'] / 365.2422\n",
    "time_in_program.loc[:, 'Years btw I-IFSP to Exit ECO'] = time_in_program['Days btw I-IFSP to Exit ECO'] / 365.2422\n",
    "time_in_program.loc[:, 'Age upon Exit (years)'] = (\n",
    "    (time_in_program['<Calc> Entrance Age (months)']/12) + time_in_program['Years btw Initial and Exit']\n",
    ")"
   ]
  },
  {
   "cell_type": "code",
   "execution_count": null,
   "id": "f77a52d4-31ee-4dcc-b0e5-0039e62b05f2",
   "metadata": {},
   "outputs": [],
   "source": [
    "exit_age = time_in_program[['CHILD_ID','Age upon Exit (years)']]"
   ]
  },
  {
   "cell_type": "code",
   "execution_count": null,
   "id": "5d27f50b-a45f-49cb-8c1c-e21a7c168a22",
   "metadata": {},
   "outputs": [],
   "source": [
    "exit_age"
   ]
  },
  {
   "cell_type": "code",
   "execution_count": null,
   "id": "eda437a6-a2ef-4a56-ba14-7e7b2486e25d",
   "metadata": {},
   "outputs": [],
   "source": [
    "exit_age_a = exit_age[exit_age['CHILD_ID'].isin(aid3)]"
   ]
  },
  {
   "cell_type": "code",
   "execution_count": null,
   "id": "937745af-ce8c-4027-ac5a-c58737e76663",
   "metadata": {
    "scrolled": true
   },
   "outputs": [],
   "source": [
    "exit_age_sorted = exit_age_a.sort_values(by='Age upon Exit (years)', ascending=False)"
   ]
  },
  {
   "cell_type": "code",
   "execution_count": null,
   "id": "94aa46b0-5525-4495-824d-0b7aa8108f85",
   "metadata": {},
   "outputs": [],
   "source": [
    "exit_age_sorted"
   ]
  },
  {
   "cell_type": "code",
   "execution_count": null,
   "id": "4289908a-07ce-47ad-ba43-3c4cbcfab920",
   "metadata": {},
   "outputs": [],
   "source": [
    "bdi3_eco_a = eco_df[eco_df['CHILD_ID'].isin(aid3)]"
   ]
  },
  {
   "cell_type": "code",
   "execution_count": null,
   "id": "58bff96d-4234-44a6-9053-eb2c26ffaa82",
   "metadata": {},
   "outputs": [],
   "source": [
    "bdi3_eco_a"
   ]
  },
  {
   "cell_type": "code",
   "execution_count": null,
   "id": "e28154a0-81dd-4f47-844b-e95c845774a6",
   "metadata": {},
   "outputs": [],
   "source": [
    "eco_df_bdi2 = eco_df[eco_df['BDI2 Entry Date'].notnull()]"
   ]
  },
  {
   "cell_type": "code",
   "execution_count": null,
   "id": "a293bed4-6670-4257-b2df-997e0065c45c",
   "metadata": {},
   "outputs": [],
   "source": [
    "eco_df_bdi2"
   ]
  },
  {
   "cell_type": "code",
   "execution_count": null,
   "id": "86437230-2f02-49c6-aff9-7bdbf6becbe0",
   "metadata": {},
   "outputs": [],
   "source": [
    "eco_df_bdi2['length_between_assessment'] = eco_df_bdi2['ECO_Exit_DATE'] - eco_df_bdi2['ECO_Entry_DATE']"
   ]
  },
  {
   "cell_type": "code",
   "execution_count": null,
   "id": "1c22334c-eb1a-45d0-948f-2347528c1630",
   "metadata": {},
   "outputs": [],
   "source": [
    "bdi2_eco_diff = eco_df_bdi2[['CHILD_ID','length_between_assessment']]"
   ]
  },
  {
   "cell_type": "code",
   "execution_count": null,
   "id": "115c3673-ac6c-46e2-bb44-c1b4e79f454b",
   "metadata": {},
   "outputs": [],
   "source": [
    "##Just needs the outcome A children IDs from BDI2\n",
    "bdi2_eco_diff[bdi2_eco_diff['length_between_assessment'].dt.days>181]"
   ]
  },
  {
   "cell_type": "code",
   "execution_count": null,
   "id": "9a7ac9c8-95c3-4e9d-93f6-b5e3b22c91b3",
   "metadata": {},
   "outputs": [],
   "source": [
    "bdi3_eco_a['length_between_assessment'] = bdi3_eco_a['ECO_Exit_DATE'] - bdi3_eco_a['ECO_Entry_DATE']"
   ]
  },
  {
   "cell_type": "code",
   "execution_count": null,
   "id": "009a4291-a755-4602-a805-f5d1fcfe5f45",
   "metadata": {},
   "outputs": [],
   "source": [
    "bdi3_eco_diff = bdi3_eco_a[['CHILD_ID','length_between_assessment']]"
   ]
  },
  {
   "cell_type": "code",
   "execution_count": null,
   "id": "9b51e7bd-97be-4edb-b512-b4b26d7feb21",
   "metadata": {},
   "outputs": [],
   "source": [
    "bdi3_eco_diff = bdi3_eco_diff[bdi3_eco_diff['length_between_assessment'].dt.days>181]"
   ]
  },
  {
   "cell_type": "code",
   "execution_count": null,
   "id": "3924b7cc-c25b-4968-aa04-025bf6ff99cf",
   "metadata": {},
   "outputs": [],
   "source": [
    "# BDI3 - Category A - Time between between entry and exit assessments\n",
    "bdi3_eco_diff = bdi3_eco_diff.sort_values(by='length_between_assessment', ascending=False)\n",
    "bdi3_eco_diff"
   ]
  },
  {
   "cell_type": "code",
   "execution_count": null,
   "id": "91d98410-7b5d-4022-9ea8-494014b8efd8",
   "metadata": {},
   "outputs": [],
   "source": [
    "bdi3_a_tip = time_in_program[time_in_program['CHILD_ID'].isin(aid3)]"
   ]
  },
  {
   "cell_type": "code",
   "execution_count": null,
   "id": "98624f28-2f8a-4b92-8794-35ccc9674043",
   "metadata": {},
   "outputs": [],
   "source": [
    "bdi3_a_tip = bdi3_a_tip[['CHILD_ID','Days btw Initial and Exit']]"
   ]
  },
  {
   "cell_type": "code",
   "execution_count": null,
   "id": "e1508c62-68cc-46be-ad34-0acbdd5e2137",
   "metadata": {},
   "outputs": [],
   "source": [
    "bdi3_a_tip = bdi3_a_tip.sort_values(by='Days btw Initial and Exit', ascending=False)"
   ]
  },
  {
   "cell_type": "code",
   "execution_count": null,
   "id": "610a667b-35d2-42e6-bf54-e261b2b8105f",
   "metadata": {},
   "outputs": [],
   "source": [
    "# BDI3 - Category A - Time between entry and exit\n",
    "bdi3_a_tip"
   ]
  },
  {
   "cell_type": "code",
   "execution_count": null,
   "id": "027d193d-1219-4055-b8a4-bfb9ee8501e3",
   "metadata": {},
   "outputs": [],
   "source": []
  }
 ],
 "metadata": {
  "kernelspec": {
   "display_name": "Python [conda env:base] *",
   "language": "python",
   "name": "conda-base-py"
  },
  "language_info": {
   "codemirror_mode": {
    "name": "ipython",
    "version": 3
   },
   "file_extension": ".py",
   "mimetype": "text/x-python",
   "name": "python",
   "nbconvert_exporter": "python",
   "pygments_lexer": "ipython3",
   "version": "3.12.7"
  }
 },
 "nbformat": 4,
 "nbformat_minor": 5
}
